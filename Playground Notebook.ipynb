{
 "cells": [
  {
   "cell_type": "code",
   "execution_count": 24,
   "metadata": {},
   "outputs": [],
   "source": [
    "import pandas as pd\n",
    "import ast\n",
    "from tabulate import tabulate\n",
    "import re\n",
    "import numpy as np\n",
    "import math\n",
    "import pickle\n",
    "import html"
   ]
  },
  {
   "cell_type": "code",
   "execution_count": 25,
   "metadata": {},
   "outputs": [],
   "source": [
    "# Import pickled dictionary of classes\n",
    "\n",
    "classes_dict = pickle.load(open( \"./class_roster_api_dict.pickle\", \"rb\"))\n",
    "pd_data = pd.DataFrame(classes_dict).transpose()\n",
    "pd_data = pd_data[[\"id\"]+[col for col in pd_data.columns if col != \"id\"]]\n",
    "np_dat = pd_data.to_numpy()"
   ]
  },
  {
   "cell_type": "code",
   "execution_count": 26,
   "metadata": {},
   "outputs": [
    {
     "name": "stdout",
     "output_type": "stream",
     "text": [
      "[353417 {'Banu  Ozer Griffin'} {'TURK 1331'} {'SP18', 'SP19', 'SP20'}\n",
      " 'Elementary Turkish II'\n",
      " 'In this course, learners will continue to develop their reading, listening, speaking, and writing beyond the foundation established in Elementary Turkish I. In this semester, learners will advance towards the Intermediate level as well as beginning to feel comfortable and confident getting around in Turkey, undertaking very basic research, and communicating with native Turkish speakers. The format will continue to focus on introducing subjects through receptive skills (reading/listening/watching) with learners then working on projects and longer writing in order to master applicable language.'\n",
      " '' 'https://classes.cornell.edu/browse/roster/SP20/class/TURK/1331']\n"
     ]
    }
   ],
   "source": [
    "print(np_dat[0])"
   ]
  },
  {
   "cell_type": "code",
   "execution_count": 27,
   "metadata": {},
   "outputs": [],
   "source": [
    "# Import pickled dictionary of RateMyProfessor Data\n",
    "\n",
    "ratemyprof_dict = pickle.load(open( \"./ratemyprofessor_api_dict.pickle\", \"rb\"))"
   ]
  },
  {
   "cell_type": "code",
   "execution_count": 28,
   "metadata": {},
   "outputs": [
    {
     "name": "stdout",
     "output_type": "stream",
     "text": [
      "Gries is incredibly caring and genuinely interested in helping his students. He can be quite sassy on Piazza, which can annoy some students, but I personally thought it was hilarious and gave him personality. Regardless, he is an engaging and humorous lecturer and is very willing to help you if you ask for it.\n",
      "3.0\n",
      "['Tough grader', 'Respected', 'Caring', 'Accessible outside class', 'Graded by few things']\n"
     ]
    }
   ],
   "source": [
    "# Example of Rate My Professor Data\n",
    "\n",
    "gries = ratemyprof_dict[\"David Joseph Gries\"]\n",
    "\n",
    "# Review for each professor (string)\n",
    "print(gries[\"review\"])\n",
    "\n",
    "# Rating for each professor (float)\n",
    "print(gries[\"rating\"])\n",
    "\n",
    "# List of tags for each professor (list of strings)\n",
    "print(gries[\"tags\"])"
   ]
  },
  {
   "cell_type": "code",
   "execution_count": 29,
   "metadata": {},
   "outputs": [],
   "source": [
    "#get individual columns as np.arrays\n",
    "\n",
    "np_ids = np.array(np_dat[:, 0])\n",
    "np_professors = np.array(np_dat[:, 1])\n",
    "np_semesters = np.array(np_dat[:,3])\n",
    "np_subject_number = np.array(np_dat[:, 2])\n",
    "np_title = np.array(np_dat[:, 4])\n",
    "np_descriptions = np.array(np_dat[:, 5])\n",
    "np_outcomes = np.array(np_dat[:, 6])\n",
    "np_urls = np.array(np_dat[:, 7])\n"
   ]
  },
  {
   "cell_type": "code",
   "execution_count": 30,
   "metadata": {},
   "outputs": [],
   "source": [
    "id_to_index = {}\n",
    "\n",
    "for i in range(len(np_ids)):\n",
    "    id_to_index[np_ids[i]] = i"
   ]
  },
  {
   "cell_type": "code",
   "execution_count": null,
   "metadata": {},
   "outputs": [],
   "source": [
    "inverted_dict = {}\n",
    "regex = r'\\w+' # regular expression to find words (MAY NEED TO REVISE/EDIT THIS)\n",
    "\n",
    "    \n",
    "for i in range(len(np_descriptions)):\n",
    "#for i in range(len(np_outcomes)):\n",
    "    #if len(np_outcomes[i]) > 0:\n",
    "     #   match = ''.join(np_outcomes[i])\n",
    "    #else:\n",
    "   #     match = np_descriptions[i]\n",
    "    print(np_ids[i])\n",
    "    print(np_subject_number[i])\n",
    "    print(np_descriptions[i])\n",
    "    print(np_title[i])\n",
    "    toks = re.findall(regex, np_descriptions[i].lower())\n",
    "    seen = set()\n",
    "    for t in toks:\n",
    "        if t in inverted_dict.keys():\n",
    "            if t not in seen:\n",
    "                count = toks.count(t)\n",
    "                inverted_dict[t].append((id_to_index[np_ids[i]], count))\n",
    "                seen.add(t)\n",
    "        else:\n",
    "            count = toks.count(t)\n",
    "            inverted_dict[t] = [(id_to_index[np_ids[i]], count)]\n",
    "            seen.add(t)\n",
    "    seen.clear()        \n",
    "\n"
   ]
  },
  {
   "cell_type": "code",
   "execution_count": null,
   "metadata": {},
   "outputs": [],
   "source": []
  },
  {
   "cell_type": "code",
   "execution_count": null,
   "metadata": {},
   "outputs": [],
   "source": []
  },
  {
   "cell_type": "code",
   "execution_count": null,
   "metadata": {},
   "outputs": [],
   "source": [
    "inverted_dict['the'] #gives list of tuples (doc_index, frequency of 'the' in doc)"
   ]
  },
  {
   "cell_type": "code",
   "execution_count": 32,
   "metadata": {},
   "outputs": [
    {
     "name": "stdout",
     "output_type": "stream",
     "text": [
      "in\n",
      "this\n",
      "course\n",
      "will\n",
      "to\n",
      "their\n",
      "and\n",
      "the\n",
      "as\n",
      "with\n",
      "on\n",
      "be\n",
      "a\n",
      "of\n",
      "topics\n",
      "for\n",
      "students\n",
      "or\n",
      "is\n",
      "an\n",
      "from\n",
      "are\n",
      "we\n",
      "that\n",
      "include\n",
      "how\n",
      "by\n"
     ]
    }
   ],
   "source": [
    "min_df = 0\n",
    "max_df_ratio = 0.17 #tuned this down until it printed out only very common words for a course description\n",
    "num_docs = np.shape(np_dat)[0]\n",
    "tokens = set()\n",
    "idf_dict = {}\n",
    "\n",
    "for t in inverted_dict.keys():\n",
    "    df = len(inverted_dict[t])\n",
    "    if float(df/num_docs) < max_df_ratio:\n",
    "        tokens.add(t)\n",
    "        idf_dict[t] = math.log(num_docs/(1 + df), 2)\n",
    "    else:\n",
    "        print(t)"
   ]
  },
  {
   "cell_type": "code",
   "execution_count": 33,
   "metadata": {},
   "outputs": [],
   "source": [
    "tokens = sorted(tokens)\n",
    "\n",
    "term_doc_matrix = np.zeros((len(np_descriptions), len(tokens)))\n",
    "\n",
    "for t in tokens:\n",
    "    term_idx = tokens.index(t)\n",
    "    for doc_idx, freq in inverted_dict[t]:\n",
    "        term_doc_matrix[doc_idx, term_idx] = freq"
   ]
  },
  {
   "cell_type": "code",
   "execution_count": 34,
   "metadata": {},
   "outputs": [],
   "source": [
    "norms = np.zeros(num_docs)\n",
    "\n",
    "for i in idf_dict:\n",
    "    for tup in inverted_dict[i]:\n",
    "        desc_idx = tup[0]\n",
    "        desc_term_freq = tup[1]\n",
    "        norms[desc_idx] += (desc_term_freq * idf_dict[i]) ** 2\n",
    "        \n",
    "norms = np.sqrt(norms)"
   ]
  },
  {
   "cell_type": "code",
   "execution_count": 15,
   "metadata": {},
   "outputs": [],
   "source": [
    "##### THIS WHOLE BLOCK IS COPIED IN THE NEXT ONE DOWN AS A FUNCITON cosine_sim\n",
    "\n",
    "original_query = \"computer programming\"\n",
    "\n",
    "query = original_query.split()\n",
    "tuples = list()\n",
    "    \n",
    "query_norm_sum = 0\n",
    "\n",
    "for q in query:\n",
    "    if q in idf_dict.keys():\n",
    "        q_count = query.count(q)\n",
    "        q_idf = idf_dict[q]\n",
    "        query_norm_sum += (q_count*q_idf) ** 2\n",
    "            \n",
    "query_norm = math.sqrt(query_norm_sum)\n",
    "    \n",
    "doc_scores = {}\n",
    "\n",
    "for q in query: #iterate over each query term\n",
    "    if q in idf_dict.keys(): #if q has inverted doc frequency val\n",
    "        for (doc_idx, value) in inverted_dict[q]: #iterate over each tuple in inverted_index[query_term]\n",
    "            if doc_idx not in doc_scores.keys():\n",
    "                doc_scores[doc_idx] = query.count(q) * idf_dict[q] * value * idf_dict[q] #begin accumulator\n",
    "            else:\n",
    "                doc_scores[doc_idx] += query.count(q) * idf_dict[q] * value * idf_dict[q]#add to accumulator\n",
    "            #Additional score for query term in title\n",
    "            score_boost = 0.1\n",
    "            if q in np_title[doc_idx].lower():\n",
    "                doc_scores[doc_idx] += score_boost * (query_norm*norms[doc_idx])\n",
    "    \n",
    "    #GET FROM DICT TO LIST OF TUPLES WHILE DIVIDING BY NORMS\n",
    "    \n",
    "for doc_idx, value in doc_scores.items():\n",
    "    tuples.append((value/(query_norm*norms[doc_idx]), doc_idx)) \n",
    "        \n",
    "tuples = sorted(tuples, key=lambda x: x[0], reverse=True)\n",
    "\n",
    "\n",
    "##### THIS WHOLE BLOCK IS COPIED IN THE NEXT ONE DOWN AS A FUNCITON cosine_sim"
   ]
  },
  {
   "cell_type": "code",
   "execution_count": 35,
   "metadata": {},
   "outputs": [],
   "source": [
    "def cosine_sim(original_query):\n",
    "    query = original_query.split()\n",
    "    tuples = list()\n",
    "    \n",
    "    query_norm_sum = 0\n",
    "\n",
    "    for q in query:\n",
    "        if q in idf_dict.keys():\n",
    "            q_count = query.count(q)\n",
    "            q_idf = idf_dict[q]\n",
    "            query_norm_sum += (q_count*q_idf) ** 2\n",
    "            \n",
    "    query_norm = math.sqrt(query_norm_sum)\n",
    "    \n",
    "    doc_scores = {}\n",
    "\n",
    "    for q in query: #iterate over each query term\n",
    "        if q in idf_dict.keys(): #if q has inverted doc frequency val\n",
    "            for (doc_idx, value) in inverted_dict[q]: #iterate over each tuple in inverted_index[query_term]\n",
    "                if doc_idx not in doc_scores.keys():\n",
    "                    doc_scores[doc_idx] = query.count(q) * idf_dict[q] * value * idf_dict[q]#begin accumulator\n",
    "                else:\n",
    "                    doc_scores[doc_idx] += query.count(q) * idf_dict[q] * value * idf_dict[q]#add to accumulator\n",
    "                #Additional score for query term in title\n",
    "                score_boost = 0.1\n",
    "                if q in np_title[doc_idx].lower():\n",
    "                    doc_scores[doc_idx] += score_boost * (query_norm*norms[doc_idx])\n",
    "    \n",
    "        #GET FROM DICT TO LIST OF TUPLES WHILE DIVIDING BY NORMS\n",
    "    \n",
    "    for doc_idx, value in doc_scores.items():\n",
    "        tuples.append((value/(query_norm*norms[doc_idx]), doc_idx)) \n",
    "        \n",
    "    tuples = sorted(tuples, key=lambda x: x[0], reverse=True)\n",
    "    return tuples"
   ]
  },
  {
   "cell_type": "code",
   "execution_count": 36,
   "metadata": {},
   "outputs": [
    {
     "data": {
      "text/plain": [
       "[(0.5221977105343715, 4456),\n",
       " (0.5099663461940536, 3956),\n",
       " (0.5060845979144261, 1209),\n",
       " (0.46344883957306515, 3800),\n",
       " (0.45543566116576134, 3797),\n",
       " (0.4207575442523396, 3809),\n",
       " (0.3889988737098541, 6040),\n",
       " (0.3556212098407439, 4709),\n",
       " (0.3397716627594753, 953),\n",
       " (0.32871275252756316, 4468),\n",
       " (0.3222387122890409, 2252),\n",
       " (0.3198939025266949, 1194),\n",
       " (0.30248998162820423, 6251),\n",
       " (0.29822044782250523, 4451),\n",
       " (0.2922728923973748, 6253),\n",
       " (0.27978390407522274, 946),\n",
       " (0.2759119337429835, 6250),\n",
       " (0.2733027615544035, 5810),\n",
       " (0.26813429203519873, 4749),\n",
       " (0.2643970303021992, 4521),\n",
       " (0.26308857485557796, 4740),\n",
       " (0.2593071306521514, 4718),\n",
       " (0.24864368792734445, 6215),\n",
       " (0.23648339019571793, 459),\n",
       " (0.22986858563679177, 3650),\n",
       " (0.22578153018743014, 4466),\n",
       " (0.2243334732733384, 2306),\n",
       " (0.2238013642207836, 4715),\n",
       " (0.22305981066979366, 2248),\n",
       " (0.2171117887660779, 1172),\n",
       " (0.21312805269690188, 947),\n",
       " (0.2113206262978975, 2177),\n",
       " (0.20549910539293537, 2278),\n",
       " (0.20362659192994176, 3328),\n",
       " (0.201797565758855, 2632),\n",
       " (0.20146061828801073, 2695),\n",
       " (0.1986551481944387, 2253),\n",
       " (0.1980557666471693, 4479),\n",
       " (0.19507045922533475, 3796),\n",
       " (0.18994527895583335, 4717),\n",
       " (0.18434998987136464, 2227),\n",
       " (0.18227261663372085, 2161),\n",
       " (0.1773879267728889, 2242),\n",
       " (0.17258263853582323, 6220),\n",
       " (0.17258263853582323, 6224),\n",
       " (0.16644418801636074, 4716),\n",
       " (0.16445687062683517, 2276),\n",
       " (0.1636209208173362, 6252),\n",
       " (0.16112910238768044, 2305),\n",
       " (0.15997149144353917, 4714),\n",
       " (0.15508268348783277, 5327),\n",
       " (0.15021425964381932, 4487),\n",
       " (0.145164672062081, 1174),\n",
       " (0.14511695588262855, 1017),\n",
       " (0.14237874620110766, 2268),\n",
       " (0.1408326504212349, 3587),\n",
       " (0.13813194725248154, 5581),\n",
       " (0.13684315759317436, 2226),\n",
       " (0.1358533275048909, 2256),\n",
       " (0.13192241273514974, 2735),\n",
       " (0.12885921565355896, 4038),\n",
       " (0.12734612247416938, 5825),\n",
       " (0.1207963668247887, 4253),\n",
       " (0.1205395932296078, 4936),\n",
       " (0.11811971600771881, 453),\n",
       " (0.11611701556200033, 2210),\n",
       " (0.11611020928103834, 4393),\n",
       " (0.11549062046232059, 2296),\n",
       " (0.10926566315498204, 5547),\n",
       " (0.10866202749275526, 397),\n",
       " (0.10550032260195087, 5317),\n",
       " (0.10546339448091041, 6082),\n",
       " (0.10496296543362194, 2630),\n",
       " (0.10011866874132269, 6185),\n",
       " (0.09909418248870172, 5891),\n",
       " (0.09850921275151879, 4454),\n",
       " (0.09797175129752321, 4712),\n",
       " (0.09684779607032816, 6083),\n",
       " (0.09487846892645153, 4255),\n",
       " (0.09432135847633073, 1220),\n",
       " (0.09312201199868567, 2316),\n",
       " (0.09087466761717244, 2783),\n",
       " (0.08974693707658624, 3181),\n",
       " (0.08893353650974874, 2201),\n",
       " (0.08849897757581138, 1335),\n",
       " (0.08790832061103768, 5324),\n",
       " (0.08570757977437704, 2224),\n",
       " (0.08564243453349243, 5740),\n",
       " (0.08275616967311071, 5817),\n",
       " (0.0827251281988976, 5234),\n",
       " (0.08238559648474884, 6119),\n",
       " (0.08169327766041265, 4939),\n",
       " (0.07997811048088775, 4893),\n",
       " (0.07723824161624893, 4450),\n",
       " (0.07407762556147532, 5975),\n",
       " (0.0702779719103895, 2211),\n",
       " (0.06775902436589885, 1620),\n",
       " (0.06537756138701317, 3795),\n",
       " (0.06335245056861606, 3804),\n",
       " (0.06315351139122187, 1186),\n",
       " (0.06184118765088944, 4935),\n",
       " (0.05846361968358917, 5663),\n",
       " (0.057424038207981254, 3304),\n",
       " (0.05736272124348191, 1225),\n",
       " (0.056345741170761146, 3942),\n",
       " (0.05225606421657697, 1211),\n",
       " (0.038219848270038236, 5394)]"
      ]
     },
     "execution_count": 36,
     "metadata": {},
     "output_type": "execute_result"
    }
   ],
   "source": [
    "cosine_sim(\"finance\")"
   ]
  },
  {
   "cell_type": "code",
   "execution_count": 37,
   "metadata": {},
   "outputs": [],
   "source": [
    "def cosine_sim_class(class_tag): #input is of the form 'INFO 4300' or 'INFO4300'\n",
    "    \n",
    "    subject = (\"\".join(re.split(\"[^a-zA-Z]*\", class_tag))).upper()\n",
    "    number = str(\"\".join(re.split(\"[^0-9]*\", class_tag)))\n",
    "\n",
    "    result = [classes_dict[key] for key in classes_dict.keys() \n",
    "                 if (subject + \" \" + number) in classes_dict[key][\"subject-number\"]][0]\n",
    "    \n",
    "    original_query = result[\"description\"]\n",
    "    \n",
    "    query = original_query.split()\n",
    "    tuples = list()\n",
    "    \n",
    "    query_norm_sum = 0\n",
    "\n",
    "    for q in query:\n",
    "        if q in idf_dict.keys():\n",
    "            q_count = query.count(q)\n",
    "            q_idf = idf_dict[q]\n",
    "            query_norm_sum += (q_count*q_idf) ** 2\n",
    "            \n",
    "    query_norm = math.sqrt(query_norm_sum)\n",
    "    \n",
    "    doc_scores = {}\n",
    "\n",
    "    for q in query: #iterate over each query term\n",
    "        if q in idf_dict.keys(): #if q has inverted doc frequency val\n",
    "            for (doc_idx, value) in inverted_dict[q]: #iterate over each tuple in inverted_index[query_term]\n",
    "                if doc_idx not in doc_scores.keys():\n",
    "                    doc_scores[doc_idx] = query.count(q) * idf_dict[q] * value * idf_dict[q]#begin accumulator\n",
    "                else:\n",
    "                    doc_scores[doc_idx] += query.count(q) * idf_dict[q] * value * idf_dict[q] #add to accumulator\n",
    "                #Additional score for query term in title\n",
    "                score_boost = 0.1\n",
    "                if q in np_title[doc_idx].lower():\n",
    "                    doc_scores[doc_idx] += score_boost * (query_norm*norms[doc_idx])\n",
    "    \n",
    "        #GET FROM DICT TO LIST OF TUPLES WHILE DIVIDING BY NORMS\n",
    "    \n",
    "    for doc_idx, value in doc_scores.items():\n",
    "        course = (subject + \" \" + number)\n",
    "        if course not in np_subject_number[doc_idx]:\n",
    "            tuples.append((value/(query_norm*norms[doc_idx]), doc_idx)) \n",
    "        \n",
    "    tuples = sorted(tuples, key=lambda x: x[0], reverse=True)\n",
    "    #tuples = tuples[1:]\n",
    "    return tuples"
   ]
  },
  {
   "cell_type": "code",
   "execution_count": 38,
   "metadata": {},
   "outputs": [
    {
     "data": {
      "text/plain": [
       "[(0.9906746652524726, 761),\n",
       " (0.9729729913778656, 5393),\n",
       " (0.8148851081410464, 4793),\n",
       " (0.8128458066152329, 2838),\n",
       " (0.8103431886111406, 5629),\n",
       " (0.8038798718158042, 6085),\n",
       " (0.7985696815257698, 4770),\n",
       " (0.7937650812494975, 754),\n",
       " (0.787203528197406, 481),\n",
       " (0.7811860843118356, 5337)]"
      ]
     },
     "execution_count": 38,
     "metadata": {},
     "output_type": "execute_result"
    }
   ],
   "source": [
    "cosine_sim_class(\"INFO 4300\")[0:10]"
   ]
  },
  {
   "cell_type": "code",
   "execution_count": null,
   "metadata": {},
   "outputs": [],
   "source": [
    "tuples = cosine_sim_class(\"INFO 4300\")\n",
    "\n",
    "print(\"#\" * len(original_query))\n",
    "print(original_query)\n",
    "print(\"#\" * len(original_query))\n",
    "\n",
    "for score, doc_idx in tuples[:10]:\n",
    "    print(\"\\n\\n\")\n",
    "    print(\"Score: %s \\n\" % (score))\n",
    "    print(\"Class: %s %s \\n\" % (\" / \".join(np_subject_number[doc_idx]), np_title[doc_idx]))\n",
    "    print(\"Description: %s \\n\" % np_descriptions[doc_idx])\n",
    "    print(\"\\n\\n\")"
   ]
  },
  {
   "cell_type": "code",
   "execution_count": null,
   "metadata": {},
   "outputs": [],
   "source": [
    "#original_query = \"computer programming\"\n",
    "#tuples = cosine_sim(original_query)\n",
    "\n",
    "original_query = \"finance\"\n",
    "\n",
    "tuples = cosine_sim(original_query)\n",
    "\n",
    "\n",
    "\n",
    "print(\"#\" * len(original_query))\n",
    "print(original_query)\n",
    "print(\"#\" * len(original_query))\n",
    "\n",
    "for score, doc_idx in tuples[:10]:\n",
    "    print(\"\\n\\n\")\n",
    "    print(\"Score: %s \\n\" % (score))\n",
    "    print(\"Class: %s %s \\n\" % (\" / \".join(np_subject_number[doc_idx]), np_title[doc_idx]))\n",
    "    print(\"Description: %s \\n\" % np_descriptions[doc_idx])\n",
    "    print(\"\\n\\n\")"
   ]
  },
  {
   "cell_type": "code",
   "execution_count": null,
   "metadata": {},
   "outputs": [],
   "source": []
  },
  {
   "cell_type": "code",
   "execution_count": 42,
   "metadata": {},
   "outputs": [],
   "source": [
    "def rocchio(query, docs, relevant_idx, td_matrix):\n",
    "    alpha = 1\n",
    "    beta = 1\n",
    "    gamma = 1\n",
    "    \n",
    "    irr_idx = [0, 1, 2, 3, 4, 5, 6, 7, 8, 9]\n",
    "    \n",
    "    irr_idx = np.setdiff1d(irr_idx, relevant_idx)\n",
    "    \n",
    "    num_toks = np.shape(td_matrix)\n",
    "    \n",
    "    q_vec = np.zeros(num_toks[1])\n",
    "    \n",
    "    q_terms = query.split(' ')\n",
    "    \n",
    "    for t in q_terms:\n",
    "        i = tokens.index(t)\n",
    "        q_vec[i] = q_vec[i] + 1\n",
    "        \n",
    "    term1 = q_vec * alpha\n",
    "    \n",
    "    rel_sum = np.zeros(num_toks[1])\n",
    "    irrel_sum = np.zeros(num_toks[1])\n",
    "    \n",
    "    for i in relevant_idx:\n",
    "        doc = docs[i]\n",
    "        rel_sum = rel_sum + td_matrix[doc[1], ]\n",
    "\n",
    "    for j in irr_idx:\n",
    "        doc = docs[i]\n",
    "        irrel_sum = irrel_sum + td_matrix[doc[1], ]\n",
    "        \n",
    "    term2 = (rel_sum*beta)/len(relevant_idx)\n",
    "    \n",
    "    term3 = (irrel_sum*gamma)/len(irr_idx)\n",
    "    \n",
    "    new_vec = term1 + term2 - term3\n",
    "    \n",
    "    for i in range(len(new_vec)):\n",
    "        if new_vec[i] < 0:\n",
    "            new_vec[i] = 0\n",
    "            \n",
    "    new_query = \"\"        \n",
    "    \n",
    "    for i in range(len(new_vec)):\n",
    "        word = tokens[i] + \" \"\n",
    "        new_query = new_query + (word * int(round(new_vec[i])))\n",
    "        \n",
    "    return new_query"
   ]
  },
  {
   "cell_type": "code",
   "execution_count": 48,
   "metadata": {},
   "outputs": [
    {
     "name": "stdout",
     "output_type": "stream",
     "text": [
      "#############\n",
      "culinary food\n",
      "#############\n",
      "****************************************************************************************************\n",
      "Score: 0.3992691953681555 \n",
      "\n",
      "Class: FDSC 6010 Principles and Applications of Food Science and Technology \n",
      "\n",
      "Description: Students are first introduced to the principles and applications in food chemistry, food microbiology, food processing and engineering, sensory science, and international food science. Then students review and discuss the research literature in these fields. \n",
      "\n",
      "****************************************************************************************************\n",
      "Score: 0.37178250619610087 \n",
      "\n",
      "Class: DSOC 3400 Agriculture, Food, Sustainability and Social Justice \n",
      "\n",
      "Description: How is our food produced: where, by whom and under what conditions? What are the major trends and drivers of the agriculture and food system? How has our agriculture and food system changed over time? What are some of the environmental, social, nutritional and health implications of our food system? In this course we will use a sociological perspective to examine the social, political, economic and environmental aspects of agriculture and food. We will consider the historical background to our food and agricultural system, and will look at different agriculture and food issues in the Global North and South. We will also examine examples of alternative agriculture and food approaches and concepts, such as food sovereignty, agroecology, food justice, fair trade and community-supported agriculture, all of which attempt to support more sustainable, socially equitable agriculture and food systems. Engaged, critical learning is encouraged, including regular field trips for hands-on learning, guest speakers and films as well as discussions and lecture-based classes. \n",
      "\n",
      "****************************************************************************************************\n",
      "Score: 0.36194631210942535 \n",
      "\n",
      "Class: LAW 6647 Law and Policy of Food Systems \n",
      "\n",
      "Description: Covering topics from farm production to the distribution and consumption of food, this course enables students to understand the complex relationship between the interests of producers and consumers in the food policy and food justice debate. We will explore cross-disciplinary aspects of the legal and regulatory processes that affect production, harvest and distribution of food. Students explore the real consequences of the federal, state and local laws and policies that govern the agriculture and food system. By learning the specialized language of farmers and food policy specialists and advocates, students are better equipped to tackle the difficult technical and policy issues facing food systems today.  \n",
      "\n",
      "****************************************************************************************************\n",
      "Score: 0.33271647074940186 \n",
      "\n",
      "Class: JWST 2501 / FDSC 2500 Kosher and Halal Food Regulations \n",
      "\n",
      "Description: This course explores kosher and halal food practices as a way to understand how the global food industry accommodates diverse and competing religious, cultural, and scientific approaches to food. The essential online component of the course introduces Jewish and Islamic religious law and modern religious food supervision. From diverse presenters, you'll learn about how we celebrate and struggle with food through various religious traditions, conflicting scientific claims, secular public policy choices, and cultural and spiritual practices. We'll discuss how food and eating are used for inclusion as well as exclusion by individuals, families, and groups in private and public settings where food is handled and consumed.             \n",
      "\n",
      "****************************************************************************************************\n",
      "Score: 0.3228065311746677 \n",
      "\n",
      "Class: FDSC 4040 Chemistry and Functional Properties of Food Ingredients \n",
      "\n",
      "Description: This is a course with an emphasis on understanding the interactions of food ingredients and their role and functionality in the food product. This course is designed to enable students to utilize a step by step problem solving approach to tackle challenges found in the food industry. Examples of these challenges will be presented as case studies obtained from literature and food industry.             \n",
      "\n",
      "****************************************************************************************************\n",
      "Score: 0.3220288204150565 \n",
      "\n",
      "Class: FGSS 4645 / ENGL 4645 Culinary Literature, Literary Food \n",
      "\n",
      "Description: Why might a novelist choose to focus on food (or a chef) in order to tell a particular tale?  How do writers use the language of food to explore issues such as gender, sexuality, race and nation? What can a study of food tell us about the dynamic of power and its circulation in US culture? This class interrogates the ways food functions as a symbol in literary texts; we will also consider how writers deploy narrative form and language to capture the sensual pleasures of food. Our entrees will consist of novels and short stories, but sides may include memoir, food essays, and cookbooks. \n",
      "\n",
      "****************************************************************************************************\n",
      "Score: 0.3202479972729965 \n",
      "\n",
      "Class: HADM 2360 Food Service Management, Theory and Practice \n",
      "\n",
      "Description: This course introduces food and beverage operations management through four major components: fundamental food composition and properties; food products and preparation; food safety; and the application of management concepts to food and beverage operations. Students prepare recipes, menus, and production schedules; critically evaluate foods; and are involved in projects in which they create menus, develop and standardize recipes, and calculate yield percentages and food cost. Completion of a four-hour practicum experience in Establishment is a required course activity. \n",
      "\n",
      "****************************************************************************************************\n",
      "Score: 0.31804169317500336 \n",
      "\n",
      "Class: NS 2470 Food for Contemporary Living \n",
      "\n",
      "Description: During this laboratory course, the understanding of food ingredients and techniques of food preparation is applied to positive nutritional practices and health promotion goals; basic food science and nutrition principles, food safety/sanitation, sensory evaluation, and social-cultural influences on food choices; food preparation, recipe modification, sensory evaluation (taste testing required); basic cooking skills, techniques. Introduction to basic menu planning and meeting nutritional requirements while restricted to a budget. Lab performance and a lab practical factored into final student evaluation; attendance at all labs is expected. \n",
      "\n",
      "****************************************************************************************************\n",
      "Score: 0.31455244571511476 \n",
      "\n",
      "Class: FDSC 2110 Food Analysis Laboratory \n",
      "\n",
      "Description: The experiments conducted in Food Analysis lab provide context for the application of principles of food analysis. Students will analyze complex food products for lipids, minerals, carbohydrates, proteins and other components, and through this process, hone their basic lab skills, including organization and time management. Experiments are designed to introduce a variety of techniques commonly used in food science and nutrition analytical labs. The techniques, process, and problems presented to students in this lab will have application for career paths in product development, research and development, quality control, food safety, and industry regulations, among others. \n",
      "\n",
      "****************************************************************************************************\n",
      "Score: 0.3132340971819828 \n",
      "\n",
      "Class: AMST 1886 / HIST 1886 Introduction to Food Studies: History and Culture \n",
      "\n",
      "Description: This course introduces students to the growing field of academic Food Studies, providing historical perspective into the development of American culinary culture. Discussions of American cuisine will lead directly into larger concepts of American identity: is there a uniquely American menu? How have restaurants shaped American patterns of sociability and civil rights? What are the 19th century origins of tipping? Students will actively engage with 19th and early 20th century primary source material, including recipes, advertisements, cookbooks, and nutrition manuals. \n",
      "\n"
     ]
    }
   ],
   "source": [
    "original_query = 'culinary food'\n",
    "\n",
    "tuples = cosine_sim(original_query)\n",
    "\n",
    "\n",
    "\n",
    "print(\"#\" * len(original_query))\n",
    "print(original_query)\n",
    "print(\"#\" * len(original_query))\n",
    "\n",
    "for score, doc_idx in tuples[:10]:\n",
    "    print(\"*\"*100)\n",
    "    print(\"Score: %s \\n\" % (score))\n",
    "    print(\"Class: %s %s \\n\" % (\" / \".join(np_subject_number[doc_idx]), np_title[doc_idx]))\n",
    "    print(\"Description: %s \\n\" % np_descriptions[doc_idx])"
   ]
  },
  {
   "cell_type": "code",
   "execution_count": 50,
   "metadata": {},
   "outputs": [
    {
     "name": "stdout",
     "output_type": "stream",
     "text": [
      "Original Query: culinary food\n",
      "New Query: culinary \n",
      "#############\n",
      "culinary food\n",
      "#############\n",
      "****************************************************************************************************\n",
      "Score: 0.20472560767002818 \n",
      "\n",
      "Class: PLHRT 1102 Hands-On Horticulture for Gardeners \n",
      "\n",
      "Description: The objective is to instill in students a lifelong appreciation for how gardening can enhance individual well-being through aesthetics, culinary experiences, and mastery of techniques. Emphasizes hands-on learning and practice of key gardening skills and techniques in the greenhouse and the field, such as landscape management, garden design, propagation, pruning, grafting, pest management, and flower arrangement. There is one Saturday field trip at the end of the semester to visit gardens in the local area. \n",
      "\n",
      "****************************************************************************************************\n",
      "Score: 0.1910101360054994 \n",
      "\n",
      "Class: AMST 1886 / HIST 1886 Introduction to Food Studies: History and Culture \n",
      "\n",
      "Description: This course introduces students to the growing field of academic Food Studies, providing historical perspective into the development of American culinary culture. Discussions of American cuisine will lead directly into larger concepts of American identity: is there a uniquely American menu? How have restaurants shaped American patterns of sociability and civil rights? What are the 19th century origins of tipping? Students will actively engage with 19th and early 20th century primary source material, including recipes, advertisements, cookbooks, and nutrition manuals. \n",
      "\n",
      "****************************************************************************************************\n",
      "Score: 0.14586158747114963 \n",
      "\n",
      "Class: COML 1119 FWS: A Taste of Russian Literature \n",
      "\n",
      "Description: Explore the culinary tradition and culture of Russia in broad historical, geopolitical and socioeconomic context through the lens of Russian folklore, short stories of Gogol, Chekhov, and Bulgakov, works of contemporary Russian-American writers, visual art, and international film. The literary journey will take you from the lavish tables of the XVIII century aristocracy, to the hardship and austerity of GULAG prison, to the colorful and savory regional fare of the former Russian Empire and Soviet Union, to the fridge and pantry staples in the everyday life of Russian family. Your writing assignments will help you develop critical thinking and argumentative skills, precision and clarity of expression, ability to write with discipline, creativity, and sense of style. \n",
      "\n"
     ]
    }
   ],
   "source": [
    "print(\"Original Query:\", original_query)\n",
    "\n",
    "new_query = rocchio(original_query, tuples[10:], [0, 1, 2, 3], term_doc_matrix)\n",
    "\n",
    "print(\"New Query:\", new_query)\n",
    "\n",
    "tuples = cosine_sim(new_query)\n",
    "\n",
    "\n",
    "\n",
    "print(\"#\" * len(original_query))\n",
    "print(original_query)\n",
    "print(\"#\" * len(original_query))\n",
    "\n",
    "for score, doc_idx in tuples[:10]:\n",
    "    print(\"*\"*100)\n",
    "    print(\"Score: %s \\n\" % (score))\n",
    "    print(\"Class: %s %s \\n\" % (\" / \".join(np_subject_number[doc_idx]), np_title[doc_idx]))\n",
    "    print(\"Description: %s \\n\" % np_descriptions[doc_idx])"
   ]
  },
  {
   "cell_type": "code",
   "execution_count": 22,
   "metadata": {},
   "outputs": [],
   "source": [
    "#print professor tags\n",
    "\n",
    "def professor_tags(class_tag):\n",
    "    subject = (\"\".join(re.split(\"[^a-zA-Z]*\", class_tag))).upper()\n",
    "    number = str(\"\".join(re.split(\"[^0-9]*\", class_tag)))\n",
    "    result = [classes_dict[key] for key in classes_dict.keys() \n",
    "                 if (subject + \" \" + number) in classes_dict[key][\"subject-number\"]][0]\n",
    "    professors = result['professors']\n",
    "    \n",
    "    tag_dict = {}\n",
    "    \n",
    "    for p in professors:\n",
    "        tag_dict[p] = ratemyprof_dict[p]['tags']\n",
    "        \n",
    "    return tag_dict"
   ]
  },
  {
   "cell_type": "code",
   "execution_count": null,
   "metadata": {},
   "outputs": [],
   "source": []
  },
  {
   "cell_type": "code",
   "execution_count": 23,
   "metadata": {},
   "outputs": [
    {
     "name": "stdout",
     "output_type": "stream",
     "text": [
      "Alexandra S Hinck\n",
      "       [] \n",
      "\n",
      "Natalie  Bazarova\n",
      "       ['Amazing lectures', 'Clear grading criteria', 'Would take again', 'Gives good feedback', 'Respected'] \n",
      "\n"
     ]
    }
   ],
   "source": [
    "tag_dict = professor_tags(\"INFO3400\")\n",
    "for key,value in tag_dict.items():\n",
    "    print(\"%s\\n       %s \\n\" % (key, value))"
   ]
  },
  {
   "cell_type": "code",
   "execution_count": 24,
   "metadata": {},
   "outputs": [],
   "source": [
    "#SVD for query expansion\n",
    "\n",
    "from sklearn.feature_extraction.text import TfidfVectorizer\n",
    "from scipy.sparse.linalg import svds\n",
    "from sklearn.preprocessing import normalize\n"
   ]
  },
  {
   "cell_type": "code",
   "execution_count": 25,
   "metadata": {},
   "outputs": [],
   "source": [
    "vectorizer = TfidfVectorizer(stop_words = 'english', max_df = max_df_ratio,\n",
    "                            min_df = 0)\n",
    "my_matrix = vectorizer.fit_transform([x for x in np_descriptions]).transpose()"
   ]
  },
  {
   "cell_type": "code",
   "execution_count": 26,
   "metadata": {},
   "outputs": [
    {
     "name": "stdout",
     "output_type": "stream",
     "text": [
      "(21367, 7346)\n"
     ]
    }
   ],
   "source": [
    "print(my_matrix.shape)"
   ]
  },
  {
   "cell_type": "code",
   "execution_count": 27,
   "metadata": {},
   "outputs": [],
   "source": [
    "u, s, v_trans = svds(my_matrix, k=100)\n",
    "words_compressed, _, docs_compressed = svds(my_matrix, k=40)\n",
    "docs_compressed = docs_compressed.transpose()\n",
    "\n",
    "word_to_index = vectorizer.vocabulary_\n",
    "index_to_word = {i:t for t,i in word_to_index.items()}\n",
    "\n",
    "words_compressed = normalize(words_compressed, axis = 1)"
   ]
  },
  {
   "cell_type": "code",
   "execution_count": 28,
   "metadata": {},
   "outputs": [],
   "source": [
    "def closest_words(word_in, k = 10):\n",
    "    if word_in not in word_to_index: return \"Not in vocab.\"\n",
    "    sims = words_compressed.dot(words_compressed[word_to_index[word_in],:])\n",
    "    asort = np.argsort(-sims)[:k+1]\n",
    "    return [(index_to_word[i],sims[i]/sims[asort[0]]) for i in asort[1:]]"
   ]
  },
  {
   "cell_type": "code",
   "execution_count": 29,
   "metadata": {},
   "outputs": [
    {
     "data": {
      "text/plain": [
       "[('ascriptions', 0.7823643303771342),\n",
       " ('pragmatics', 0.7772622646990378),\n",
       " ('syntax', 0.7725482623109073),\n",
       " ('plagiarism', 0.7722282028885669),\n",
       " ('sociolinguistics', 0.7546739912194449),\n",
       " ('sentences', 0.7446880172932401),\n",
       " ('resembling', 0.7388748155736673),\n",
       " ('phonology', 0.7315319313787894),\n",
       " ('semantics', 0.730174836738655),\n",
       " ('kunstsprache', 0.7170755033517641)]"
      ]
     },
     "execution_count": 29,
     "metadata": {},
     "output_type": "execute_result"
    }
   ],
   "source": [
    "closest_words(\"linguistics\")"
   ]
  },
  {
   "cell_type": "code",
   "execution_count": 30,
   "metadata": {},
   "outputs": [
    {
     "data": {
      "text/plain": [
       "[('investing', 0.9618821985185497),\n",
       " ('investment', 0.9590164375223831),\n",
       " ('valuation', 0.9569130569456731),\n",
       " ('investments', 0.9514932285885092),\n",
       " ('mergers', 0.9509134389912987),\n",
       " ('stock', 0.9464781654345734),\n",
       " ('capital', 0.9454415413273359),\n",
       " ('debt', 0.9416373766883782),\n",
       " ('acquisitions', 0.9409159006529788),\n",
       " ('financial', 0.9382709040753279)]"
      ]
     },
     "execution_count": 30,
     "metadata": {},
     "output_type": "execute_result"
    }
   ],
   "source": [
    "closest_words(\"finance\")"
   ]
  }
 ],
 "metadata": {
  "kernelspec": {
   "display_name": "venv",
   "language": "python",
   "name": "venv"
  },
  "language_info": {
   "codemirror_mode": {
    "name": "ipython",
    "version": 3
   },
   "file_extension": ".py",
   "mimetype": "text/x-python",
   "name": "python",
   "nbconvert_exporter": "python",
   "pygments_lexer": "ipython3",
   "version": "3.7.7"
  }
 },
 "nbformat": 4,
 "nbformat_minor": 4
}
